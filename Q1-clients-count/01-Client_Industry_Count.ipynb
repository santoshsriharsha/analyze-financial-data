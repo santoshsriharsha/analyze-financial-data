{
 "cells": [
  {
   "cell_type": "code",
   "execution_count": 1,
   "id": "053c0a9d-c659-4d4f-8cf6-b5a8d62bff55",
   "metadata": {},
   "outputs": [],
   "source": [
    "import pandas as pd"
   ]
  },
  {
   "cell_type": "code",
   "execution_count": 2,
   "id": "418967cf-1001-4174-bc19-57d60224e6a4",
   "metadata": {},
   "outputs": [],
   "source": [
    "clients_details_df = pd.read_csv('../data/industry_client_details.csv')"
   ]
  },
  {
   "cell_type": "code",
   "execution_count": 3,
   "id": "68fddc1b-591f-4df0-8f51-5d3577e20c8c",
   "metadata": {},
   "outputs": [
    {
     "data": {
      "text/html": [
       "<div>\n",
       "<style scoped>\n",
       "    .dataframe tbody tr th:only-of-type {\n",
       "        vertical-align: middle;\n",
       "    }\n",
       "\n",
       "    .dataframe tbody tr th {\n",
       "        vertical-align: top;\n",
       "    }\n",
       "\n",
       "    .dataframe thead th {\n",
       "        text-align: right;\n",
       "    }\n",
       "</style>\n",
       "<table border=\"1\" class=\"dataframe\">\n",
       "  <thead>\n",
       "    <tr style=\"text-align: right;\">\n",
       "      <th></th>\n",
       "      <th>client_id</th>\n",
       "      <th>company_size</th>\n",
       "      <th>industry</th>\n",
       "      <th>location</th>\n",
       "    </tr>\n",
       "  </thead>\n",
       "  <tbody>\n",
       "    <tr>\n",
       "      <th>0</th>\n",
       "      <td>4280387012</td>\n",
       "      <td>Large</td>\n",
       "      <td>Finance Lending</td>\n",
       "      <td>Mumbai</td>\n",
       "    </tr>\n",
       "    <tr>\n",
       "      <th>1</th>\n",
       "      <td>2095513148</td>\n",
       "      <td>Small</td>\n",
       "      <td>Finance Lending</td>\n",
       "      <td>Chennai</td>\n",
       "    </tr>\n",
       "    <tr>\n",
       "      <th>2</th>\n",
       "      <td>7225516707</td>\n",
       "      <td>Medium</td>\n",
       "      <td>Finance Lending</td>\n",
       "      <td>New Delhi</td>\n",
       "    </tr>\n",
       "    <tr>\n",
       "      <th>3</th>\n",
       "      <td>8093537819</td>\n",
       "      <td>Large</td>\n",
       "      <td>Block Chain</td>\n",
       "      <td>Mumbai</td>\n",
       "    </tr>\n",
       "    <tr>\n",
       "      <th>4</th>\n",
       "      <td>4387541014</td>\n",
       "      <td>Medium</td>\n",
       "      <td>Hyper Local</td>\n",
       "      <td>Banglore</td>\n",
       "    </tr>\n",
       "    <tr>\n",
       "      <th>...</th>\n",
       "      <td>...</td>\n",
       "      <td>...</td>\n",
       "      <td>...</td>\n",
       "      <td>...</td>\n",
       "    </tr>\n",
       "    <tr>\n",
       "      <th>95</th>\n",
       "      <td>9159056053</td>\n",
       "      <td>Medium</td>\n",
       "      <td>Gaming</td>\n",
       "      <td>New Delhi</td>\n",
       "    </tr>\n",
       "    <tr>\n",
       "      <th>96</th>\n",
       "      <td>1077708772</td>\n",
       "      <td>Small</td>\n",
       "      <td>Block Chain</td>\n",
       "      <td>Mumbai</td>\n",
       "    </tr>\n",
       "    <tr>\n",
       "      <th>97</th>\n",
       "      <td>4361672518</td>\n",
       "      <td>Small</td>\n",
       "      <td>AI</td>\n",
       "      <td>New Delhi</td>\n",
       "    </tr>\n",
       "    <tr>\n",
       "      <th>98</th>\n",
       "      <td>6751372012</td>\n",
       "      <td>Large</td>\n",
       "      <td>Hyper Local</td>\n",
       "      <td>Mumbai</td>\n",
       "    </tr>\n",
       "    <tr>\n",
       "      <th>99</th>\n",
       "      <td>6209923307</td>\n",
       "      <td>Medium</td>\n",
       "      <td>Gaming</td>\n",
       "      <td>Chennai</td>\n",
       "    </tr>\n",
       "  </tbody>\n",
       "</table>\n",
       "<p>100 rows × 4 columns</p>\n",
       "</div>"
      ],
      "text/plain": [
       "     client_id company_size         industry   location\n",
       "0   4280387012        Large  Finance Lending     Mumbai\n",
       "1   2095513148        Small  Finance Lending    Chennai\n",
       "2   7225516707       Medium  Finance Lending  New Delhi\n",
       "3   8093537819        Large      Block Chain     Mumbai\n",
       "4   4387541014       Medium      Hyper Local   Banglore\n",
       "..         ...          ...              ...        ...\n",
       "95  9159056053       Medium           Gaming  New Delhi\n",
       "96  1077708772        Small      Block Chain     Mumbai\n",
       "97  4361672518        Small               AI  New Delhi\n",
       "98  6751372012        Large      Hyper Local     Mumbai\n",
       "99  6209923307       Medium           Gaming    Chennai\n",
       "\n",
       "[100 rows x 4 columns]"
      ]
     },
     "execution_count": 3,
     "metadata": {},
     "output_type": "execute_result"
    }
   ],
   "source": [
    "clients_details_df"
   ]
  },
  {
   "cell_type": "code",
   "execution_count": 11,
   "id": "b7d2ff8c-2bb6-41c9-8163-aba84e492f61",
   "metadata": {},
   "outputs": [
    {
     "data": {
      "text/plain": [
       "(100, 4)"
      ]
     },
     "execution_count": 11,
     "metadata": {},
     "output_type": "execute_result"
    }
   ],
   "source": [
    "clients_details_df.shape"
   ]
  },
  {
   "cell_type": "code",
   "execution_count": 10,
   "id": "ea3a6924-7b78-4a28-95e5-77fb6eb1f27d",
   "metadata": {},
   "outputs": [],
   "source": [
    "condition1 = clients_details_df['industry'] == 'Finance Lending'\n",
    "condition2 = clients_details_df['industry'] == 'Block Chain'\n",
    "filtered_clients_df = clients_details_df[condition1 | condition2]"
   ]
  },
  {
   "cell_type": "code",
   "execution_count": 26,
   "id": "4d02a763-f2bd-49e4-a7e2-4285e9d4c7dd",
   "metadata": {},
   "outputs": [],
   "source": [
    "grouped_clients_df = filtered_clients_df.groupby('industry').count()"
   ]
  },
  {
   "cell_type": "code",
   "execution_count": 30,
   "id": "244dce86-22fe-4922-89a7-2cd12a73b5b4",
   "metadata": {},
   "outputs": [],
   "source": [
    "grouped_clients_df = grouped_clients_df.reset_index()"
   ]
  },
  {
   "cell_type": "code",
   "execution_count": 34,
   "id": "887e46a4-c9c0-431c-af1e-d79303abe20a",
   "metadata": {},
   "outputs": [
    {
     "data": {
      "text/html": [
       "<div>\n",
       "<style scoped>\n",
       "    .dataframe tbody tr th:only-of-type {\n",
       "        vertical-align: middle;\n",
       "    }\n",
       "\n",
       "    .dataframe tbody tr th {\n",
       "        vertical-align: top;\n",
       "    }\n",
       "\n",
       "    .dataframe thead th {\n",
       "        text-align: right;\n",
       "    }\n",
       "</style>\n",
       "<table border=\"1\" class=\"dataframe\">\n",
       "  <thead>\n",
       "    <tr style=\"text-align: right;\">\n",
       "      <th></th>\n",
       "      <th>industry</th>\n",
       "      <th>client_id</th>\n",
       "      <th>company_size</th>\n",
       "      <th>location</th>\n",
       "    </tr>\n",
       "  </thead>\n",
       "  <tbody>\n",
       "    <tr>\n",
       "      <th>0</th>\n",
       "      <td>Block Chain</td>\n",
       "      <td>25</td>\n",
       "      <td>25</td>\n",
       "      <td>25</td>\n",
       "    </tr>\n",
       "    <tr>\n",
       "      <th>1</th>\n",
       "      <td>Finance Lending</td>\n",
       "      <td>22</td>\n",
       "      <td>22</td>\n",
       "      <td>22</td>\n",
       "    </tr>\n",
       "  </tbody>\n",
       "</table>\n",
       "</div>"
      ],
      "text/plain": [
       "          industry  client_id  company_size  location\n",
       "0      Block Chain         25            25        25\n",
       "1  Finance Lending         22            22        22"
      ]
     },
     "execution_count": 34,
     "metadata": {},
     "output_type": "execute_result"
    }
   ],
   "source": [
    "grouped_clients_df"
   ]
  },
  {
   "cell_type": "code",
   "execution_count": 38,
   "id": "b50fb3e6-b1dc-4003-8658-4567890b2884",
   "metadata": {},
   "outputs": [],
   "source": [
    "grouped_clients_df = grouped_clients_df[['industry', 'client_id']]"
   ]
  },
  {
   "cell_type": "code",
   "execution_count": 43,
   "id": "58597d0c-2d2c-433a-9c6c-4f61106ff6fb",
   "metadata": {},
   "outputs": [],
   "source": [
    "grouped_clients_df.columns = ['Industry Name', 'Count']"
   ]
  },
  {
   "cell_type": "code",
   "execution_count": 49,
   "id": "316bc930-48cb-4d64-a949-c5070433b22b",
   "metadata": {},
   "outputs": [],
   "source": [
    "grouped_clients_df.to_csv('result_client_industry_count.csv', index = False)"
   ]
  },
  {
   "cell_type": "code",
   "execution_count": null,
   "id": "455da9ff-c9f8-4c31-87cc-50e6ea836df6",
   "metadata": {},
   "outputs": [],
   "source": []
  }
 ],
 "metadata": {
  "kernelspec": {
   "display_name": "Python 3 (ipykernel)",
   "language": "python",
   "name": "python3"
  },
  "language_info": {
   "codemirror_mode": {
    "name": "ipython",
    "version": 3
   },
   "file_extension": ".py",
   "mimetype": "text/x-python",
   "name": "python",
   "nbconvert_exporter": "python",
   "pygments_lexer": "ipython3",
   "version": "3.10.3"
  }
 },
 "nbformat": 4,
 "nbformat_minor": 5
}
